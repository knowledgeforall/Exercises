{
 "cells": [
  {
   "cell_type": "code",
   "execution_count": 55,
   "metadata": {},
   "outputs": [
    {
     "name": "stdout",
     "output_type": "stream",
     "text": [
      "Welcome to Tournaments R Us\n",
      "==========================\n",
      "Enter the number of participants: 50\n",
      "There are 50 participant slots ready for sign-ups.\n",
      "Participant Menu\n",
      "================\n",
      "1. Sign Up\n",
      "2. Cancel Sign Up\n",
      "3. View Participants\n",
      "4. Save Changes\n",
      "5. Exit\n",
      "Enter a number: 2\n",
      "Participant Cancellation\n",
      "========================\n",
      "Participant Name: Paul Polsinelli\n",
      "Starting slot #[1-50]: 1\n"
     ]
    },
    {
     "ename": "KeyError",
     "evalue": "'1'",
     "output_type": "error",
     "traceback": [
      "\u001b[1;31m---------------------------------------------------------------------------\u001b[0m",
      "\u001b[1;31mKeyError\u001b[0m                                  Traceback (most recent call last)",
      "\u001b[1;32m<ipython-input-55-59ed71e358e0>\u001b[0m in \u001b[0;36m<module>\u001b[1;34m\u001b[0m\n\u001b[0;32m     42\u001b[0m         \u001b[0mparticipantName\u001b[0m \u001b[1;33m=\u001b[0m \u001b[0mstr\u001b[0m\u001b[1;33m(\u001b[0m\u001b[0minput\u001b[0m\u001b[1;33m(\u001b[0m\u001b[1;34m\"Participant Name: \"\u001b[0m\u001b[1;33m)\u001b[0m\u001b[1;33m)\u001b[0m\u001b[1;33m\u001b[0m\u001b[1;33m\u001b[0m\u001b[0m\n\u001b[0;32m     43\u001b[0m         \u001b[0mstartingSlotVar\u001b[0m \u001b[1;33m=\u001b[0m \u001b[0minput\u001b[0m\u001b[1;33m(\u001b[0m\u001b[1;34m\"Starting slot #[1-50]: \"\u001b[0m\u001b[1;33m)\u001b[0m \u001b[1;31m#account and exceptions\u001b[0m\u001b[1;33m\u001b[0m\u001b[1;33m\u001b[0m\u001b[0m\n\u001b[1;32m---> 44\u001b[1;33m         \u001b[1;32mdel\u001b[0m \u001b[0mstartingSlot\u001b[0m\u001b[1;33m[\u001b[0m\u001b[0mstartingSlotVar\u001b[0m\u001b[1;33m]\u001b[0m\u001b[1;33m\u001b[0m\u001b[1;33m\u001b[0m\u001b[0m\n\u001b[0m\u001b[0;32m     45\u001b[0m         \u001b[0mcount\u001b[0m \u001b[1;33m=\u001b[0m \u001b[0mcount\u001b[0m \u001b[1;33m-\u001b[0m \u001b[1;36m1\u001b[0m\u001b[1;33m\u001b[0m\u001b[1;33m\u001b[0m\u001b[0m\n\u001b[0;32m     46\u001b[0m \u001b[1;33m\u001b[0m\u001b[0m\n",
      "\u001b[1;31mKeyError\u001b[0m: '1'"
     ]
    }
   ],
   "source": [
    "import csv\n",
    "\n",
    "startingSlot = {}\n",
    "\n",
    "with open('tournament_participants.csv', mode='r') as infile:\n",
    "    reader = csv.reader(infile)\n",
    "    startingSlot = {rows[0]:rows[1] for rows in reader}\n",
    "        \n",
    "count = 0\n",
    "#START UP\n",
    "\n",
    "print(\"Welcome to Tournaments R Us\")\n",
    "print(\"==========================\")\n",
    "participantNum = int(input(\"Enter the number of participants: \"))\n",
    "print (\"There are {} participant slots ready for sign-ups.\".format(participantNum))\n",
    "\n",
    "#MAIN MENU\n",
    "while count < 1000:\n",
    "    print(\"Participant Menu\")\n",
    "    print(\"================\")\n",
    "    print(\"1. Sign Up\")\n",
    "    print(\"2. Cancel Sign Up\")\n",
    "    print(\"3. View Participants\")\n",
    "    print(\"4. Save Changes\")\n",
    "    print(\"5. Exit\")\n",
    "\n",
    "    menuInput = int(input(\"Enter a number: \"))\n",
    "\n",
    "    if menuInput == 1:\n",
    "\n",
    "        if count < participantNum:\n",
    "            print(\"Participant Sign UP\")\n",
    "            print(\"===================\")\n",
    "            participantName = str(input(\"Participant Name: \"))\n",
    "    #         if participantName in startingSlot == True:\n",
    "    #             print (\"That name already exists\")\n",
    "            desiredStartingSlot = input(\"Desired starting slot #[1-50]: \") #account and exceptions\n",
    "    #         if desiredStartingSlot in startingSlot == True:\n",
    "    #             print (\"That slot is taken\")\n",
    "            startingSlot[desiredStartingSlot] = participantName\n",
    "            count = count + 1\n",
    "        elif count == participantNum:\n",
    "            print(\"Sorry, there are no more slots available\")\n",
    "\n",
    "    elif menuInput == 2:\n",
    "        print(\"Participant Cancellation\")\n",
    "        print(\"========================\")\n",
    "\n",
    "        participantName = str(input(\"Participant Name: \"))\n",
    "        startingSlotVar = input(\"Starting slot #[1-50]: \") #account and exceptions\n",
    "        del startingSlot[startingSlotVar]\n",
    "        count = count - 1\n",
    "\n",
    "    elif menuInput == 3:\n",
    "        print(\"View Participants\")\n",
    "        print(\"=================\")\n",
    "        viewSlot =  input(\"Starting slot #[1-50]: \") #account and exceptions\n",
    "        for key in startingSlot.keys():\n",
    "            print(f'{key - 5}:{key + 5}')\n",
    "\n",
    "    elif menuInput == 4:\n",
    "        print(\"Save Changes\")\n",
    "        print(\"============\")\n",
    "        saveChoice = input(\"Save your changes to CSV? [y/n] \")\n",
    "\n",
    "        if saveChoice == \"y\": #account for case and exceptions\n",
    "            with open('tournament_participants.csv', mode='w') as outfile:\n",
    "            writer = csv.writer(outfile)\n",
    "            startingSlot = {rows[0]:rows[1] for rows in reader}\n",
    "            \n",
    "            count = count + 1\n",
    "\n",
    "    elif menuInput == 5:\n",
    "        print(\"Exit\")\n",
    "        print(\"====\")\n",
    "        print(\"Any unsaved changes will be lost.\")\n",
    "        exit = input(\"Are you sure you want to exit? [y/n] \")\n",
    "\n",
    "        if exit == \"y\": #account for case and exceptions\n",
    "            print(\"Goodbye!\")\n",
    "        break"
   ]
  },
  {
   "cell_type": "code",
   "execution_count": 58,
   "metadata": {},
   "outputs": [
    {
     "data": {
      "text/plain": [
       "dict_items([('Paul Polsinelli', ' 1'), ('Minet Polsinelli', ' 2')])"
      ]
     },
     "execution_count": 58,
     "metadata": {},
     "output_type": "execute_result"
    }
   ],
   "source": [
    "import csv\n",
    "\n",
    "startingSlot = {}\n",
    "\n",
    "with open('tournament_participants.csv', mode='r') as infile:\n",
    "    reader = csv.reader(infile)\n",
    "    startingSlot = {rows[0]:rows[1] for rows in reader}\n",
    "startingSlot.items()"
   ]
  },
  {
   "cell_type": "code",
   "execution_count": null,
   "metadata": {},
   "outputs": [],
   "source": []
  }
 ],
 "metadata": {
  "kernelspec": {
   "display_name": "Python 3",
   "language": "python",
   "name": "python3"
  },
  "language_info": {
   "codemirror_mode": {
    "name": "ipython",
    "version": 3
   },
   "file_extension": ".py",
   "mimetype": "text/x-python",
   "name": "python",
   "nbconvert_exporter": "python",
   "pygments_lexer": "ipython3",
   "version": "3.8.5"
  }
 },
 "nbformat": 4,
 "nbformat_minor": 4
}
