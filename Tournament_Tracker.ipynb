{
 "cells": [
  {
   "cell_type": "code",
   "execution_count": 145,
   "metadata": {},
   "outputs": [
    {
     "name": "stdout",
     "output_type": "stream",
     "text": [
      "Welcome to Tournaments R Us\n",
      "==========================\n",
      "Enter the number of participants: 50\n",
      "There are 50 participant slots ready for sign-ups.\n",
      "Participant Menu\n",
      "================\n",
      "1. Sign Up\n",
      "2. Cancel Sign Up\n",
      "3. View Participants\n",
      "4. Save Changes\n",
      "5. Exit\n",
      "Enter a number: 1\n",
      "Participant Sign UP\n",
      "===================\n",
      "Participant Name: Minet Mucka\n",
      "Desired starting slot #[1-50]: 2\n",
      "Participant Menu\n",
      "================\n",
      "1. Sign Up\n",
      "2. Cancel Sign Up\n",
      "3. View Participants\n",
      "4. Save Changes\n",
      "5. Exit\n",
      "Enter a number: 4\n",
      "Save Changes\n",
      "============\n",
      "Save your changes to CSV? [y/n] y\n"
     ]
    },
    {
     "ename": "ValueError",
     "evalue": "I/O operation on closed file.",
     "output_type": "error",
     "traceback": [
      "\u001b[1;31m---------------------------------------------------------------------------\u001b[0m",
      "\u001b[1;31mValueError\u001b[0m                                Traceback (most recent call last)",
      "\u001b[1;32m<ipython-input-145-ce6f24ddc2c3>\u001b[0m in \u001b[0;36m<module>\u001b[1;34m\u001b[0m\n\u001b[0;32m     67\u001b[0m             \u001b[0mstartingSlot\u001b[0m \u001b[1;33m=\u001b[0m \u001b[0mopen\u001b[0m\u001b[1;33m(\u001b[0m\u001b[1;34m'tournament_participants.csv'\u001b[0m\u001b[1;33m,\u001b[0m \u001b[1;34m'w'\u001b[0m\u001b[1;33m)\u001b[0m\u001b[1;33m\u001b[0m\u001b[1;33m\u001b[0m\u001b[0m\n\u001b[0;32m     68\u001b[0m             \u001b[0mwriter\u001b[0m \u001b[1;33m=\u001b[0m \u001b[0mcsv\u001b[0m\u001b[1;33m.\u001b[0m\u001b[0mreader\u001b[0m\u001b[1;33m(\u001b[0m\u001b[0mtp\u001b[0m\u001b[1;33m)\u001b[0m\u001b[1;33m\u001b[0m\u001b[1;33m\u001b[0m\u001b[0m\n\u001b[1;32m---> 69\u001b[1;33m             \u001b[0mstartingSlot\u001b[0m \u001b[1;33m=\u001b[0m \u001b[1;33m{\u001b[0m\u001b[0mrows\u001b[0m\u001b[1;33m[\u001b[0m\u001b[1;36m0\u001b[0m\u001b[1;33m]\u001b[0m\u001b[1;33m:\u001b[0m\u001b[0mrows\u001b[0m\u001b[1;33m[\u001b[0m\u001b[1;36m1\u001b[0m\u001b[1;33m]\u001b[0m \u001b[1;32mfor\u001b[0m \u001b[0mrows\u001b[0m \u001b[1;32min\u001b[0m \u001b[0mreader\u001b[0m\u001b[1;33m}\u001b[0m\u001b[1;33m\u001b[0m\u001b[1;33m\u001b[0m\u001b[0m\n\u001b[0m\u001b[0;32m     70\u001b[0m             \u001b[0mstartingSlot\u001b[0m\u001b[1;33m.\u001b[0m\u001b[0mclose\u001b[0m\u001b[1;33m(\u001b[0m\u001b[1;33m)\u001b[0m\u001b[1;33m\u001b[0m\u001b[1;33m\u001b[0m\u001b[0m\n\u001b[0;32m     71\u001b[0m \u001b[1;33m\u001b[0m\u001b[0m\n",
      "\u001b[1;32m<ipython-input-145-ce6f24ddc2c3>\u001b[0m in \u001b[0;36m<dictcomp>\u001b[1;34m(.0)\u001b[0m\n\u001b[0;32m     67\u001b[0m             \u001b[0mstartingSlot\u001b[0m \u001b[1;33m=\u001b[0m \u001b[0mopen\u001b[0m\u001b[1;33m(\u001b[0m\u001b[1;34m'tournament_participants.csv'\u001b[0m\u001b[1;33m,\u001b[0m \u001b[1;34m'w'\u001b[0m\u001b[1;33m)\u001b[0m\u001b[1;33m\u001b[0m\u001b[1;33m\u001b[0m\u001b[0m\n\u001b[0;32m     68\u001b[0m             \u001b[0mwriter\u001b[0m \u001b[1;33m=\u001b[0m \u001b[0mcsv\u001b[0m\u001b[1;33m.\u001b[0m\u001b[0mreader\u001b[0m\u001b[1;33m(\u001b[0m\u001b[0mtp\u001b[0m\u001b[1;33m)\u001b[0m\u001b[1;33m\u001b[0m\u001b[1;33m\u001b[0m\u001b[0m\n\u001b[1;32m---> 69\u001b[1;33m             \u001b[0mstartingSlot\u001b[0m \u001b[1;33m=\u001b[0m \u001b[1;33m{\u001b[0m\u001b[0mrows\u001b[0m\u001b[1;33m[\u001b[0m\u001b[1;36m0\u001b[0m\u001b[1;33m]\u001b[0m\u001b[1;33m:\u001b[0m\u001b[0mrows\u001b[0m\u001b[1;33m[\u001b[0m\u001b[1;36m1\u001b[0m\u001b[1;33m]\u001b[0m \u001b[1;32mfor\u001b[0m \u001b[0mrows\u001b[0m \u001b[1;32min\u001b[0m \u001b[0mreader\u001b[0m\u001b[1;33m}\u001b[0m\u001b[1;33m\u001b[0m\u001b[1;33m\u001b[0m\u001b[0m\n\u001b[0m\u001b[0;32m     70\u001b[0m             \u001b[0mstartingSlot\u001b[0m\u001b[1;33m.\u001b[0m\u001b[0mclose\u001b[0m\u001b[1;33m(\u001b[0m\u001b[1;33m)\u001b[0m\u001b[1;33m\u001b[0m\u001b[1;33m\u001b[0m\u001b[0m\n\u001b[0;32m     71\u001b[0m \u001b[1;33m\u001b[0m\u001b[0m\n",
      "\u001b[1;31mValueError\u001b[0m: I/O operation on closed file."
     ]
    }
   ],
   "source": [
    "import csv\n",
    "\n",
    "startingSlot = {}\n",
    "\n",
    "with open('tournament_participants.csv', mode='r') as infile:\n",
    "    reader = csv.reader(infile)\n",
    "    startingSlot = {rows[0]:rows[1] for rows in reader}\n",
    "        \n",
    "count = 0\n",
    "#START UP\n",
    "\n",
    "print(\"Welcome to Tournaments R Us\")\n",
    "print(\"==========================\")\n",
    "participantNum = int(input(\"Enter the number of participants: \"))\n",
    "print (\"There are {} participant slots ready for sign-ups.\".format(participantNum))\n",
    "\n",
    "#MAIN MENU\n",
    "while count < 1000:\n",
    "    print(\"Participant Menu\")\n",
    "    print(\"================\")\n",
    "    print(\"1. Sign Up\")\n",
    "    print(\"2. Cancel Sign Up\")\n",
    "    print(\"3. View Participants\")\n",
    "    print(\"4. Save Changes\")\n",
    "    print(\"5. Exit\")\n",
    "\n",
    "    menuInput = int(input(\"Enter a number: \"))\n",
    "\n",
    "    if menuInput == 1:\n",
    "\n",
    "        if count < participantNum:\n",
    "            print(\"Participant Sign UP\")\n",
    "            print(\"===================\")\n",
    "            participantName = str(input(\"Participant Name: \"))\n",
    "    #         if participantName in startingSlot == True:\n",
    "    #             print (\"That name already exists\")\n",
    "            desiredStartingSlot = input(\"Desired starting slot #[1-50]: \") #account and exceptions\n",
    "    #         if desiredStartingSlot in startingSlot == True:\n",
    "    #             print (\"That slot is taken\")\n",
    "            startingSlot[desiredStartingSlot] = participantName\n",
    "            count = count + 1\n",
    "        elif count == participantNum:\n",
    "            print(\"Sorry, there are no more slots available\")\n",
    "\n",
    "    elif menuInput == 2:\n",
    "        print(\"Participant Cancellation\")\n",
    "        print(\"========================\")\n",
    "\n",
    "        participantName = str(input(\"Participant Name: \"))\n",
    "        startingSlotVar = input(\"Starting slot #[1-50]: \") #account and exceptions\n",
    "        del startingSlot[startingSlotVar]\n",
    "        count = count - 1\n",
    "\n",
    "    elif menuInput == 3:\n",
    "        print(\"View Participants\")\n",
    "        print(\"=================\")\n",
    "        viewSlot =  input(\"Starting slot #[1-50]: \") #account and exceptions\n",
    "        for key in startingSlot.keys():\n",
    "            print(f'{key - 5}:{key + 5}')\n",
    "\n",
    "    elif menuInput == 4:\n",
    "        print(\"Save Changes\")\n",
    "        print(\"============\")\n",
    "        saveChoice = input(\"Save your changes to CSV? [y/n] \")\n",
    "\n",
    "        if saveChoice == \"y\": #account for case and exceptions\n",
    "            startingSlot = open('tournament_participants.csv', 'w')\n",
    "            writer = csv.reader(tp)\n",
    "            startingSlot = {rows[0]:rows[1] for rows in reader}\n",
    "            startingSlot.close()\n",
    "\n",
    "            count = count + 1\n",
    "\n",
    "    elif menuInput == 5:\n",
    "        print(\"Exit\")\n",
    "        print(\"====\")\n",
    "        print(\"Any unsaved changes will be lost.\")\n",
    "        exit = input(\"Are you sure you want to exit? [y/n] \")\n",
    "\n",
    "        if exit == \"y\": #account for case and exceptions\n",
    "            print(\"Goodbye!\")\n",
    "        break"
   ]
  },
  {
   "cell_type": "code",
   "execution_count": null,
   "metadata": {},
   "outputs": [],
   "source": [
    "import csv\n",
    "\n",
    "startingSlot = {}\n",
    "\n",
    "with open('tournament_participants.csv', mode='r') as infile:\n",
    "    reader = csv.reader(infile)\n",
    "    startingSlot = {rows[0]:rows[1] for rows in reader}\n",
    "startingSlot.items()"
   ]
  },
  {
   "cell_type": "code",
   "execution_count": 141,
   "metadata": {},
   "outputs": [],
   "source": [
    "    if menuInput == 4:\n",
    "        print(\"Save Changes\")\n",
    "        print(\"============\")\n",
    "        saveChoice = input(\"Save your changes to CSV? [y/n] \")\n",
    "\n",
    "        if saveChoice == \"y\": #account for case and exceptions\n",
    "            tp = open('tournament_participants.csv', 'w')\n",
    "            writer = csv.reader(tp)\n",
    "            startingSlot = {rows[0]:rows[1] for rows in reader}\n",
    "            tp.close()\n",
    "\n",
    "            \n",
    "            count = count + 1"
   ]
  },
  {
   "cell_type": "code",
   "execution_count": 144,
   "metadata": {},
   "outputs": [
    {
     "data": {
      "text/plain": [
       "dict_items([('1', 'Paul Polsinelli')])"
      ]
     },
     "execution_count": 144,
     "metadata": {},
     "output_type": "execute_result"
    }
   ],
   "source": [
    "startingSlot.items()"
   ]
  },
  {
   "cell_type": "code",
   "execution_count": 128,
   "metadata": {},
   "outputs": [
    {
     "ename": "TypeError",
     "evalue": "'_csv.writer' object is not iterable",
     "output_type": "error",
     "traceback": [
      "\u001b[1;31m---------------------------------------------------------------------------\u001b[0m",
      "\u001b[1;31mTypeError\u001b[0m                                 Traceback (most recent call last)",
      "\u001b[1;32m<ipython-input-128-14925ee7284d>\u001b[0m in \u001b[0;36m<module>\u001b[1;34m\u001b[0m\n\u001b[0;32m      1\u001b[0m \u001b[1;32mwith\u001b[0m \u001b[0mopen\u001b[0m\u001b[1;33m(\u001b[0m\u001b[1;34m'tournament_participants.csv'\u001b[0m\u001b[1;33m,\u001b[0m \u001b[0mmode\u001b[0m\u001b[1;33m=\u001b[0m\u001b[1;34m'w'\u001b[0m\u001b[1;33m)\u001b[0m \u001b[1;32mas\u001b[0m \u001b[0moutfile\u001b[0m\u001b[1;33m:\u001b[0m\u001b[1;33m\u001b[0m\u001b[1;33m\u001b[0m\u001b[0m\n\u001b[0;32m      2\u001b[0m     \u001b[0mwriter\u001b[0m \u001b[1;33m=\u001b[0m \u001b[0mcsv\u001b[0m\u001b[1;33m.\u001b[0m\u001b[0mwriter\u001b[0m\u001b[1;33m(\u001b[0m\u001b[0moutfile\u001b[0m\u001b[1;33m)\u001b[0m\u001b[1;33m\u001b[0m\u001b[1;33m\u001b[0m\u001b[0m\n\u001b[1;32m----> 3\u001b[1;33m     \u001b[0mstartingSlot\u001b[0m \u001b[1;33m=\u001b[0m \u001b[1;33m{\u001b[0m\u001b[0mrows\u001b[0m\u001b[1;33m[\u001b[0m\u001b[1;36m0\u001b[0m\u001b[1;33m]\u001b[0m\u001b[1;33m:\u001b[0m\u001b[0mrows\u001b[0m\u001b[1;33m[\u001b[0m\u001b[1;36m1\u001b[0m\u001b[1;33m]\u001b[0m \u001b[1;32mfor\u001b[0m \u001b[0mrows\u001b[0m \u001b[1;32min\u001b[0m \u001b[0mwriter\u001b[0m\u001b[1;33m}\u001b[0m\u001b[1;33m\u001b[0m\u001b[1;33m\u001b[0m\u001b[0m\n\u001b[0m",
      "\u001b[1;31mTypeError\u001b[0m: '_csv.writer' object is not iterable"
     ]
    }
   ],
   "source": [
    "with open('tournament_participants.csv', mode='w') as outfile:\n",
    "    writer = csv.writer(outfile)\n",
    "    startingSlot = {rows[0]:rows[1] for rows in writer}"
   ]
  },
  {
   "cell_type": "code",
   "execution_count": 138,
   "metadata": {},
   "outputs": [
    {
     "data": {
      "text/plain": [
       "<_csv.reader at 0x2093f93f6a0>"
      ]
     },
     "execution_count": 138,
     "metadata": {},
     "output_type": "execute_result"
    }
   ],
   "source": [
    "reader"
   ]
  }
 ],
 "metadata": {
  "kernelspec": {
   "display_name": "Python 3",
   "language": "python",
   "name": "python3"
  },
  "language_info": {
   "codemirror_mode": {
    "name": "ipython",
    "version": 3
   },
   "file_extension": ".py",
   "mimetype": "text/x-python",
   "name": "python",
   "nbconvert_exporter": "python",
   "pygments_lexer": "ipython3",
   "version": "3.8.5"
  }
 },
 "nbformat": 4,
 "nbformat_minor": 4
}
