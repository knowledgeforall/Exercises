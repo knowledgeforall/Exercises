{
 "cells": [
  {
   "cell_type": "code",
   "execution_count": 86,
   "metadata": {},
   "outputs": [
    {
     "ename": "IndentationError",
     "evalue": "expected an indented block (<ipython-input-86-8fa778961de9>, line 68)",
     "output_type": "error",
     "traceback": [
      "\u001b[1;36m  File \u001b[1;32m\"<ipython-input-86-8fa778961de9>\"\u001b[1;36m, line \u001b[1;32m68\u001b[0m\n\u001b[1;33m    writer = csv.writer(outfile)\u001b[0m\n\u001b[1;37m    ^\u001b[0m\n\u001b[1;31mIndentationError\u001b[0m\u001b[1;31m:\u001b[0m expected an indented block\n"
     ]
    }
   ],
   "source": [
    "import csv\n",
    "\n",
    "startingSlot = {}\n",
    "\n",
    "with open('tournament_participants.csv', mode='r') as infile:\n",
    "    reader = csv.reader(infile)\n",
    "    startingSlot = {rows[0]:rows[1] for rows in reader}\n",
    "        \n",
    "count = 0\n",
    "#START UP\n",
    "\n",
    "print(\"Welcome to Tournaments R Us\")\n",
    "print(\"==========================\")\n",
    "participantNum = int(input(\"Enter the number of participants: \"))\n",
    "print (\"There are {} participant slots ready for sign-ups.\".format(participantNum))\n",
    "\n",
    "#MAIN MENU\n",
    "while count < 1000:\n",
    "    print(\"Participant Menu\")\n",
    "    print(\"================\")\n",
    "    print(\"1. Sign Up\")\n",
    "    print(\"2. Cancel Sign Up\")\n",
    "    print(\"3. View Participants\")\n",
    "    print(\"4. Save Changes\")\n",
    "    print(\"5. Exit\")\n",
    "\n",
    "    menuInput = int(input(\"Enter a number: \"))\n",
    "\n",
    "    if menuInput == 1:\n",
    "\n",
    "        if count < participantNum:\n",
    "            print(\"Participant Sign UP\")\n",
    "            print(\"===================\")\n",
    "            participantName = str(input(\"Participant Name: \"))\n",
    "    #         if participantName in startingSlot == True:\n",
    "    #             print (\"That name already exists\")\n",
    "            desiredStartingSlot = input(\"Desired starting slot #[1-50]: \") #account and exceptions\n",
    "    #         if desiredStartingSlot in startingSlot == True:\n",
    "    #             print (\"That slot is taken\")\n",
    "            startingSlot[desiredStartingSlot] = participantName\n",
    "            count = count + 1\n",
    "        elif count == participantNum:\n",
    "            print(\"Sorry, there are no more slots available\")\n",
    "\n",
    "    elif menuInput == 2:\n",
    "        print(\"Participant Cancellation\")\n",
    "        print(\"========================\")\n",
    "\n",
    "        participantName = str(input(\"Participant Name: \"))\n",
    "        startingSlotVar = input(\"Starting slot #[1-50]: \") #account and exceptions\n",
    "        del startingSlot[startingSlotVar]\n",
    "        count = count - 1\n",
    "\n",
    "    elif menuInput == 3:\n",
    "        print(\"View Participants\")\n",
    "        print(\"=================\")\n",
    "        viewSlot =  input(\"Starting slot #[1-50]: \") #account and exceptions\n",
    "        for key in startingSlot.keys():\n",
    "            print(f'{key - 5}:{key + 5}')\n",
    "\n",
    "    elif menuInput == 4:\n",
    "        print(\"Save Changes\")\n",
    "        print(\"============\")\n",
    "        saveChoice = input(\"Save your changes to CSV? [y/n] \")\n",
    "\n",
    "        if saveChoice == \"y\": #account for case and exceptions\n",
    "            with open('tournament_participants.csv', mode='w') as outfile:\n",
    "            writer = csv.writer(outfile)\n",
    "            startingSlot = {rows[0]:rows[1] for rows in reader}\n",
    "            \n",
    "            count = count + 1\n",
    "\n",
    "    elif menuInput == 5:\n",
    "        print(\"Exit\")\n",
    "        print(\"====\")\n",
    "        print(\"Any unsaved changes will be lost.\")\n",
    "        exit = input(\"Are you sure you want to exit? [y/n] \")\n",
    "\n",
    "        if exit == \"y\": #account for case and exceptions\n",
    "            print(\"Goodbye!\")\n",
    "        break"
   ]
  },
  {
   "cell_type": "code",
   "execution_count": 58,
   "metadata": {},
   "outputs": [
    {
     "data": {
      "text/plain": [
       "dict_items([('Paul Polsinelli', ' 1'), ('Minet Polsinelli', ' 2')])"
      ]
     },
     "execution_count": 58,
     "metadata": {},
     "output_type": "execute_result"
    }
   ],
   "source": [
    "import csv\n",
    "\n",
    "startingSlot = {}\n",
    "\n",
    "with open('tournament_participants.csv', mode='r') as infile:\n",
    "    reader = csv.reader(infile)\n",
    "    startingSlot = {rows[0]:rows[1] for rows in reader}\n",
    "startingSlot.items()"
   ]
  },
  {
   "cell_type": "code",
   "execution_count": 61,
   "metadata": {},
   "outputs": [
    {
     "ename": "IndentationError",
     "evalue": "expected an indented block (<ipython-input-61-f09dcf83690e>, line 8)",
     "output_type": "error",
     "traceback": [
      "\u001b[1;36m  File \u001b[1;32m\"<ipython-input-61-f09dcf83690e>\"\u001b[1;36m, line \u001b[1;32m8\u001b[0m\n\u001b[1;33m    writer = csv.writer(outfile)\u001b[0m\n\u001b[1;37m    ^\u001b[0m\n\u001b[1;31mIndentationError\u001b[0m\u001b[1;31m:\u001b[0m expected an indented block\n"
     ]
    }
   ],
   "source": [
    "    if menuInput == 4:\n",
    "        print(\"Save Changes\")\n",
    "        print(\"============\")\n",
    "        saveChoice = input(\"Save your changes to CSV? [y/n] \")\n",
    "\n",
    "        if saveChoice == \"y\": #account for case and exceptions\n",
    "            with open('tournament_participants.csv', mode='w') as outfile:\n",
    "            writer = csv.writer(outfile)\n",
    "            startingSlot = {rows[0]:rows[1] for rows in reader}\n",
    "            \n",
    "            count = count + 1"
   ]
  },
  {
   "cell_type": "code",
   "execution_count": 85,
   "metadata": {},
   "outputs": [
    {
     "data": {
      "text/plain": [
       "dict_items([])"
      ]
     },
     "execution_count": 85,
     "metadata": {},
     "output_type": "execute_result"
    }
   ],
   "source": [
    "startingSlot.items()"
   ]
  },
  {
   "cell_type": "code",
   "execution_count": null,
   "metadata": {},
   "outputs": [],
   "source": []
  }
 ],
 "metadata": {
  "kernelspec": {
   "display_name": "Python 3",
   "language": "python",
   "name": "python3"
  },
  "language_info": {
   "codemirror_mode": {
    "name": "ipython",
    "version": 3
   },
   "file_extension": ".py",
   "mimetype": "text/x-python",
   "name": "python",
   "nbconvert_exporter": "python",
   "pygments_lexer": "ipython3",
   "version": "3.8.5"
  }
 },
 "nbformat": 4,
 "nbformat_minor": 4
}
