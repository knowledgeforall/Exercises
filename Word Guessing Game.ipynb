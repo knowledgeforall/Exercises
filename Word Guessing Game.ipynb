{
 "cells": [
  {
   "cell_type": "code",
   "execution_count": 60,
   "metadata": {},
   "outputs": [
    {
     "name": "stdout",
     "output_type": "stream",
     "text": [
      "Guess a letter or the whole word. You have 2 tries left1\n",
      "Guess must be a letter or a word.\n",
      "Sorry, you lost. The word was 'It'.\n"
     ]
    }
   ],
   "source": [
    "#import random word\n",
    "file_path = (r'words_alpha.txt')\n",
    "close()\n",
    "randomWord = (\"It\")\n",
    "randomWordList = list(randomWord)\n",
    "\n",
    "#set count\n",
    "count = 2\n",
    "\n",
    "#while count\n",
    "while count > 0:\n",
    "    #accept input\n",
    "    guess = input(\"Guess a letter or the whole word. You have {} tries left\".format (count))\n",
    "    if not guess.isalpha():\n",
    "        print(\"Guess must be a letter or a word.\")\n",
    "        count = count - 1\n",
    "    if guess == randomWord:\n",
    "        print(\"You got it! You won!\")\n",
    "    else:\n",
    "        break\n",
    "\n",
    "#     if guess != randomWord:\n",
    "#         for letter in randomWordList:\n",
    "#             if guess = \n",
    "#             len(guess)\n",
    "#             print(RandomWordList)\n",
    "\n",
    "\n",
    "if count == 0:\n",
    "    print (\"Sorry, you lost. The word was '{}'.\".format (randomWord))\n",
    "    \n"
   ]
  },
  {
   "cell_type": "code",
   "execution_count": 61,
   "metadata": {},
   "outputs": [
    {
     "data": {
      "text/plain": [
       "<enumerate at 0x269c5abf600>"
      ]
     },
     "execution_count": 61,
     "metadata": {},
     "output_type": "execute_result"
    }
   ],
   "source": [
    "enumerate(randomWordList)"
   ]
  },
  {
   "cell_type": "code",
   "execution_count": 62,
   "metadata": {},
   "outputs": [
    {
     "name": "stdout",
     "output_type": "stream",
     "text": [
      "['I', 't']\n"
     ]
    }
   ],
   "source": [
    "print(randomWordList)"
   ]
  }
 ],
 "metadata": {
  "kernelspec": {
   "display_name": "Python 3",
   "language": "python",
   "name": "python3"
  }
 },
 "nbformat": 4,
 "nbformat_minor": 4
}
